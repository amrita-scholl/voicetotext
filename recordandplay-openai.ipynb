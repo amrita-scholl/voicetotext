{
 "cells": [
  {
   "cell_type": "code",
   "execution_count": 15,
   "metadata": {},
   "outputs": [],
   "source": [
    "# import required libraries\n",
    "import sounddevice as sd\n",
    "from scipy.io.wavfile import write\n",
    "#import wavio as wv\n",
    "\n",
    "# Sampling frequency\n",
    "freq = 44100\n",
    "\n",
    "# Recording duration\n",
    "duration = 5\n",
    "\n",
    "# Start recorder with the given values \n",
    "# of duration and sample frequency\n",
    "recording = sd.rec(int(duration * freq), \n",
    "\t\t\t\tsamplerate=freq, channels=2)\n",
    "\n",
    "# Record audio for the given number of seconds\n",
    "sd.wait()\n",
    "\n",
    "# This will convert the NumPy array to an audio\n",
    "# file with the given sampling frequency\n",
    "write(\"audio.mp3\", freq, recording)\n",
    "\n",
    "# Convert the NumPy array to audio file\n",
    "#wv.write(\"audio.wav\", recording, freq, sampwidth=2)\n"
   ]
  },
  {
   "cell_type": "code",
   "execution_count": 18,
   "metadata": {},
   "outputs": [
    {
     "name": "stdout",
     "output_type": "stream",
     "text": [
      "Hello, hello.\n"
     ]
    }
   ],
   "source": [
    "from openai import OpenAI\n",
    "client = OpenAI(api_key=\"open_api_key\")\n",
    "\n",
    "audio_file = open(\"audio.mp3\", \"rb\")\n",
    "transcript = client.audio.transcriptions.create(\n",
    "  model=\"whisper-1\",\n",
    "  file=audio_file\n",
    ")\n",
    "\n",
    "print(transcript.text)"
   ]
  }
 ],
 "metadata": {
  "kernelspec": {
   "display_name": "Python 3",
   "language": "python",
   "name": "python3"
  },
  "language_info": {
   "codemirror_mode": {
    "name": "ipython",
    "version": 3
   },
   "file_extension": ".py",
   "mimetype": "text/x-python",
   "name": "python",
   "nbconvert_exporter": "python",
   "pygments_lexer": "ipython3",
   "version": "3.11.9"
  }
 },
 "nbformat": 4,
 "nbformat_minor": 2
}
